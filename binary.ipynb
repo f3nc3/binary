{
  "nbformat": 4,
  "nbformat_minor": 0,
  "metadata": {
    "colab": {
      "provenance": []
    },
    "kernelspec": {
      "name": "python3",
      "display_name": "Python 3"
    },
    "language_info": {
      "name": "python"
    }
  },
  "cells": [
    {
      "cell_type": "code",
      "execution_count": 6,
      "metadata": {
        "colab": {
          "base_uri": "https://localhost:8080/"
        },
        "id": "sZ8HN9QAA4Qv",
        "outputId": "32111ee6-33f1-47eb-b14f-423492e192df"
      },
      "outputs": [
        {
          "output_type": "stream",
          "name": "stdout",
          "text": [
            "Epoch: 2000, Loss: 0.249993\n",
            "Epoch: 4000, Loss: 0.249921\n",
            "Epoch: 6000, Loss: 0.249400\n",
            "Epoch: 8000, Loss: 0.220996\n",
            "Epoch: 10000, Loss: 0.040121\n",
            "Epoch: 12000, Loss: 0.011659\n",
            "Epoch: 14000, Loss: 0.006378\n",
            "Epoch: 16000, Loss: 0.004308\n",
            "Epoch: 18000, Loss: 0.003226\n",
            "Epoch: 20000, Loss: 0.002567\n",
            "[(array([0, 0]), 0.05), (array([0, 1]), 0.95), (array([1, 0]), 0.95), (array([1, 1]), 0.04)]\n"
          ]
        }
      ],
      "source": [
        "import numpy as np\n",
        "\n",
        "def sigmoid(x):\n",
        "    return 1 / (1 + np.exp(-x))\n",
        "\n",
        "def sigmoid_derivative(x):\n",
        "    return x * (1 - x)\n",
        "\n",
        "def mean_square_error_loss(y_true, y_pred):\n",
        "    return np.mean((y_true - y_pred) ** 2)\n",
        "\n",
        "# Input and output data for XOR\n",
        "input_data = np.array([[0, 0], [0, 1], [1, 0], [1, 1]])\n",
        "output_data = np.array([[0], [1], [1], [0]])\n",
        "\n",
        "# Network architecture\n",
        "input_size, hidden_size, output_size = 2, 2, 1\n",
        "weights_input_hidden = np.random.rand(input_size, hidden_size)\n",
        "bias_hidden = np.random.rand(hidden_size)\n",
        "weights_hidden_output = np.random.randn(hidden_size, output_size)\n",
        "bias_output = np.random.rand(output_size)\n",
        "\n",
        "# Training parameters\n",
        "learning_rate, epochs = 0.1, 20000\n",
        "\n",
        "# Training loop\n",
        "for epoch in range(epochs):\n",
        "    # Forward pass\n",
        "    hidden_output = sigmoid(np.dot(input_data, weights_input_hidden) + bias_hidden)\n",
        "    final_output = sigmoid(np.dot(hidden_output, weights_hidden_output) + bias_output)\n",
        "\n",
        "    # Loss calculation\n",
        "    loss = mean_square_error_loss(output_data, final_output)\n",
        "\n",
        "    # Backpropagation\n",
        "    error_output = final_output - output_data\n",
        "    gradient_output = error_output * sigmoid_derivative(final_output)\n",
        "\n",
        "    error_hidden = np.dot(gradient_output, weights_hidden_output.T)\n",
        "    gradient_hidden = error_hidden * sigmoid_derivative(hidden_output)\n",
        "\n",
        "    # Update weights and biases\n",
        "    weights_hidden_output -= learning_rate * np.dot(hidden_output.T, gradient_output)\n",
        "    bias_output -= learning_rate * np.sum(gradient_output, axis=0)\n",
        "    weights_input_hidden -= learning_rate * np.dot(input_data.T, gradient_hidden)\n",
        "    bias_hidden -= learning_rate * np.sum(gradient_hidden, axis=0)\n",
        "\n",
        "    # Print loss every 2000 epochs\n",
        "    if (epoch + 1) % 2000 == 0:\n",
        "        print(f\"Epoch: {epoch + 1}, Loss: {loss:.6f}\")\n",
        "\n",
        "# Results\n",
        "results = [(input_pair, np.round(sigmoid(np.dot(sigmoid(np.dot(input_pair, weights_input_hidden) + bias_hidden), weights_hidden_output) + bias_output)[0], 2))\n",
        "           for input_pair in input_data]\n",
        "print(results)"
      ]
    },
    {
      "cell_type": "code",
      "source": [],
      "metadata": {
        "id": "ukjRuH94BCNP"
      },
      "execution_count": 5,
      "outputs": []
    },
    {
      "cell_type": "code",
      "source": [],
      "metadata": {
        "id": "rtBacRVyBD4G"
      },
      "execution_count": 5,
      "outputs": []
    },
    {
      "cell_type": "code",
      "source": [],
      "metadata": {
        "id": "_dfDURWwBFly"
      },
      "execution_count": 5,
      "outputs": []
    },
    {
      "cell_type": "code",
      "source": [],
      "metadata": {
        "id": "dRo9RrceBHRY"
      },
      "execution_count": 5,
      "outputs": []
    },
    {
      "cell_type": "code",
      "source": [],
      "metadata": {
        "id": "kLnNMkh-BJlj"
      },
      "execution_count": 5,
      "outputs": []
    }
  ]
}